{
 "cells": [
  {
   "cell_type": "markdown",
   "id": "refined-smell",
   "metadata": {},
   "source": [
    "# Elasticsearch + NumPy + Pandas\n",
    "\n",
    "https://kb.objectrocket.com/elasticsearch/how-to-use-elasticsearch-data-using-pandas-in-python-349\n",
    "https://elasticsearch-py.readthedocs.io/en/v7.12.0/"
   ]
  },
  {
   "cell_type": "code",
   "execution_count": 25,
   "id": "creative-durham",
   "metadata": {
    "tags": []
   },
   "outputs": [
    {
     "data": {
      "text/plain": [
       "{'name': 'my-elasticsearch',\n",
       " 'cluster_name': 'docker-cluster',\n",
       " 'cluster_uuid': 'Z4gQIZiYRui8ZBubV3zK3A',\n",
       " 'version': {'number': '7.10.1',\n",
       "  'build_flavor': 'default',\n",
       "  'build_type': 'docker',\n",
       "  'build_hash': '1c34507e66d7db1211f66f3513706fdf548736aa',\n",
       "  'build_date': '2020-12-05T01:00:33.671820Z',\n",
       "  'build_snapshot': False,\n",
       "  'lucene_version': '8.7.0',\n",
       "  'minimum_wire_compatibility_version': '6.8.0',\n",
       "  'minimum_index_compatibility_version': '6.0.0-beta1'},\n",
       " 'tagline': 'You Know, for Search'}"
      ]
     },
     "execution_count": 25,
     "metadata": {},
     "output_type": "execute_result"
    }
   ],
   "source": [
    "import json\n",
    "import os\n",
    "from os import listdir\n",
    "from os.path import join\n",
    "import re\n",
    "import requests\n",
    "from elasticsearch import Elasticsearch\n",
    "\n",
    "from tqdm.notebook import tqdm\n",
    "\n",
    "tweetsPath = '../data/tweets'\n",
    "speechesPath = '../data/speeches'\n",
    "\n",
    "tweetsIndex = 'tfg-tweet'\n",
    "speechesIndex = 'tfg-speech'\n",
    "\n",
    "# Define config\n",
    "host = \"my-elasticsearch\"\n",
    "username= 'elastic'\n",
    "password= 'password'\n",
    "port = 9200\n",
    "timeout = 1000\n",
    "\n",
    "# Init Elasticsearch instance\n",
    "es = Elasticsearch(\n",
    "    [{'host': host, 'port': port}],\n",
    "    timeout=timeout,\n",
    "    http_auth=(username, password)\n",
    ")\n",
    "es.info()\n"
   ]
  },
  {
   "cell_type": "code",
   "execution_count": 22,
   "id": "abstract-compensation",
   "metadata": {},
   "outputs": [],
   "source": [
    "tweetsPaths = [join(tweetsPath, f) for f in listdir(tweetsPath)]\n",
    "speechesPaths = [join(speechesPath, f) for f in listdir(speechesPath)]\n",
    "\n",
    "files = tweetsPaths + speechesPaths"
   ]
  },
  {
   "cell_type": "code",
   "execution_count": 24,
   "id": "married-florida",
   "metadata": {},
   "outputs": [
    {
     "name": "stdout",
     "output_type": "stream",
     "text": [
      "{'_index': 'test-index', '_type': '_doc', '_id': 'apGJt3gBG0gO2PiuRllt', '_version': 1, 'result': 'created', '_shards': {'total': 2, 'successful': 1, 'failed': 0}, '_seq_no': 0, '_primary_term': 1}\n"
     ]
    }
   ],
   "source": [
    "with open(files[0], 'r') as f:\n",
    "    text = f.read()\n",
    "    data = json.loads(text)\n",
    "    \n",
    "    res = es.index(index=\"test-index\",  body=data)\n",
    "    print(res)"
   ]
  },
  {
   "cell_type": "code",
   "execution_count": 27,
   "id": "otherwise-tracker",
   "metadata": {},
   "outputs": [],
   "source": [
    "for file in tqdm(tweetsPaths):\n",
    "    with open(file, 'r') as f:\n",
    "        text = f.read()\n",
    "        data = json.loads(text)\n",
    "        es.index(index=tweetsIndex, body=data)"
   ]
  },
  {
   "cell_type": "code",
   "execution_count": 33,
   "id": "intellectual-weather",
   "metadata": {},
   "outputs": [
    {
     "data": {
      "application/vnd.jupyter.widget-view+json": {
       "model_id": "cb62ff740129428ebd68ed0f521a90a3",
       "version_major": 2,
       "version_minor": 0
      },
      "text/plain": [
       "  0%|          | 0/17218 [00:00<?, ?it/s]"
      ]
     },
     "metadata": {},
     "output_type": "display_data"
    },
    {
     "name": "stdout",
     "output_type": "stream",
     "text": [
      "../data/speeches/17217-DSCD-14-PL-002.json\n"
     ]
    }
   ],
   "source": [
    "for file in tqdm(speechesPaths):\n",
    "    with open(file, 'r') as f:\n",
    "        text = f.read()\n",
    "        data = json.loads(text)\n",
    "        speech = {}\n",
    "        speech['text'] = data['text']\n",
    "        speech['freeling'] = data['freeling']\n",
    "        speech['created_at'] = data['metadata']['celebrated']\n",
    "        speech['debate'] = data['metadata']['debate']\n",
    "        speech['diputado'] = data['metadata']['diputado'][0] \n",
    "        try:\n",
    "            es.index(index=speechesIndex, body=speech)\n",
    "        except:\n",
    "            print(file)"
   ]
  },
  {
   "cell_type": "code",
   "execution_count": 34,
   "id": "monthly-sugar",
   "metadata": {},
   "outputs": [
    {
     "name": "stdout",
     "output_type": "stream",
     "text": [
      "{\n",
      "    \"metadata\": {\n",
      "        \"celebrated\": \"2021-05-25T00:00:00.000Z\",\n",
      "        \"debate\": \"CONVALIDACI\\u00d3N O DEROGACI\\u00d3N DE REALES DECRETOS-LEYES: -- REAL DECRETO-LEY 4/2021, DE 9 DE MARZO, POR EL QUE SE MODIFICAN LA LEY 27/2014, DE 27 DE NOVIEMBRE, DEL IMPUESTO SOBRE SOCIEDADES, Y EL TEXTO REFUNDIDO DE LA LEY DEL IMPUESTO SOBRE LA RENTA DE NO RESIDENTES, APROBADO MEDIANTE REAL DECRETO LEGISLATIVO 5/2004, DE 5 DE MARZO, EN RELACI\\u00d3N CON LAS ASIMETR\\u00cdAS H\\u00cdBRIDAS. \",\n",
      "        \"diputado\": [\n",
      "            {\n",
      "                \"apellidos\": \"Batet Lama\\u00f1a\",\n",
      "                \"apellidosNombre\": \"Batet Lama\\u00f1a, Meritxell\",\n",
      "                \"codParlamentario\": 215,\n",
      "                \"fchAlta\": \"26/11/2019\",\n",
      "                \"fchBaja\": \"\",\n",
      "                \"formacion\": \"PSC-PSOE\",\n",
      "                \"genero\": 2,\n",
      "                \"grupo\": \"Grupo Parlamentario Socialista\",\n",
      "                \"idCircunscripcion\": 8,\n",
      "                \"idLegislatura\": 14,\n",
      "                \"nombre\": \"Meritxell\",\n",
      "                \"nombreCircunscripcion\": \"Barcelona\",\n",
      "                \"twitter\": \"https://twitter.com/meritxell_batet\",\n",
      "                \"twitterUserId\": \"725700028392689664\",\n",
      "                \"twitterUserName\": \"meritxell_batet\"\n",
      "            },\n",
      "            10\n",
      "        ],\n",
      "        \"order\": 124,\n",
      "        \"path\": \"../data/diaries-txts/DSCD-14-PL-092.txt\",\n",
      "        \"president\": \"MERITXELL BATET LAMA\\u00d1A\",\n",
      "        \"presidentTreatment\": \"Presidenta\",\n",
      "        \"speacker\": \"PRESIDENTA\"\n",
      "    },\n",
      "    \"text\": \"En consecuencia, queda aprobada la propuesta. Buenas tardes, se\\u00f1or\\u00edas. Se levanta la sesi\\u00f3n.\",\n",
      "    \"freeling\": \"En_consecuencia en_consecuencia RG 1\\n, , Fc 1\\nqueda quedar VMIP3S0 0.945755\\naprobada aprobar VMP00SF 1\\nla el DA0FS0 0.98926\\npropuesta propuesta NCFS000 0.983384\\n. . Fp 1\\nBuenas bueno AQ0FP00 1\\ntardes tarde NCFP000 0.980769\\n, , Fc 1\\nse\\u00f1or\\u00edas se\\u00f1or\\u00eda NCFP000 1\\n. . Fp 1\\nSe se P00CN00 0.494509\\nlevanta levantar VMIP3S0 0.983871\\nla el DA0FS0 0.98926\\nsesi\\u00f3n sesi\\u00f3n NCFS000 1\\n. . Fp 1\"\n",
      "}\n"
     ]
    }
   ],
   "source": []
  }
 ],
 "metadata": {
  "kernelspec": {
   "display_name": "Python 3",
   "language": "python",
   "name": "python3"
  },
  "language_info": {
   "codemirror_mode": {
    "name": "ipython",
    "version": 3
   },
   "file_extension": ".py",
   "mimetype": "text/x-python",
   "name": "python",
   "nbconvert_exporter": "python",
   "pygments_lexer": "ipython3",
   "version": "3.8.8"
  }
 },
 "nbformat": 4,
 "nbformat_minor": 5
}
