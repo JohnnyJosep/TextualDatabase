{
 "cells": [
  {
   "cell_type": "markdown",
   "id": "clear-washington",
   "metadata": {},
   "source": [
    "# Freeling\n",
    "\n",
    "fent us de freeling analitzarem els textes"
   ]
  },
  {
   "cell_type": "code",
   "execution_count": 42,
   "id": "applied-murder",
   "metadata": {},
   "outputs": [],
   "source": [
    "import json\n",
    "import os\n",
    "from os import listdir\n",
    "from os.path import join\n",
    "import re\n",
    "import requests\n",
    "\n",
    "from tqdm.notebook import tqdm\n",
    "\n",
    "tweetsPath = '../data/tweets'\n",
    "speechesPath = '../data/speeches'\n",
    "\n",
    "\n",
    "def freelingAnalizer(text, logs=False):\n",
    "        if logs:\n",
    "            print(text)\n",
    "        headers = {'Content-Type': 'text/plain'}\n",
    "        \n",
    "        response = requests.post('http://my-freeling-api:8080', headers=headers, data=text.encode('utf-8'))\n",
    "        content = response.content.decode('utf-8')\n",
    "        content = re.sub('\\n\\n', '\\n', content)\n",
    "        content = re.sub('\\n$', '', content)\n",
    "        \n",
    "        if logs:\n",
    "            print(content)\n",
    "        \n",
    "        parts = content.split('\\n')\n",
    "        return parts\n"
   ]
  },
  {
   "cell_type": "code",
   "execution_count": 52,
   "id": "competent-compromise",
   "metadata": {},
   "outputs": [],
   "source": [
    "class Morfo:\n",
    "    def __init__(self, word, lema, pos, prob):\n",
    "        self.word = word\n",
    "        self.lema = lema\n",
    "        self.pos = pos\n",
    "        self.prob = prob\n",
    "        \n",
    "    def isAdjective(self):\n",
    "        return self.pos[0] == 'A'\n",
    "    \n",
    "    def isConjunction(self):\n",
    "        return self.pos[0] == 'C'\n",
    "    \n",
    "    def isDeterminer(self):\n",
    "        return self.pos[0] == 'D'\n",
    "    \n",
    "    def isNoun(self):\n",
    "        return self.pos[0] == 'N'\n",
    "    \n",
    "    def isPronoun(self):\n",
    "        return self.pos[0] == 'P'\n",
    "    \n",
    "    def isAdverb(self):\n",
    "        return self.pos[0] == 'R'\n",
    "    \n",
    "    def isAdposition(self):\n",
    "        return self.pos[0] == 'S'\n",
    "    \n",
    "    def isVerb(self):\n",
    "        return self.pos[0] == 'V'\n",
    "    \n",
    "    def isNumber(self):\n",
    "        return self.pos[0] == 'N'\n",
    "    \n",
    "    def isDate(self):\n",
    "        return self.pos[0] == 'D'\n",
    "    \n",
    "    def isInterjection(self):\n",
    "        return self.pos[0] == 'I'\n",
    "    \n",
    "    def isPunctuation(self):\n",
    "        return self.pos[0] == 'F'\n",
    "    \n",
    "    def isOther(self):\n",
    "        return self.pos[0] == 'Z'\n",
    "    \n",
    "    def isNonSignificant(self):\n",
    "        return self.isConjunction() or self.isDeterminer() or self.isPronoun() or self.isAdposition() or self.isOther()\n",
    "        \n",
    "    def __str__(self):\n",
    "        return f'<{self.word}, {self.lema}, {self.pos}, {self.prob}>'\n",
    "    \n",
    "    def toJSON(self):\n",
    "        return json.dumps(self, default=lambda o: o.__dict__, sort_keys=True, indent=4)\n",
    "        \n",
    "def getMorfo(freelingResponse):\n",
    "    parts = freelingResponse.split(' ')\n",
    "    if len(parts) != 4:\n",
    "        return None\n",
    "    return Morfo(parts[0] ,parts[1], parts[2], parts[3])"
   ]
  },
  {
   "cell_type": "code",
   "execution_count": 53,
   "id": "binary-stadium",
   "metadata": {},
   "outputs": [
    {
     "name": "stdout",
     "output_type": "stream",
     "text": [
      "['Todos todo DI0MP0 0.70665', 'los el DA0MP0 0.992728', 'niños niño NCMP000 0.998721', 'nacen nacer VMIP3P0 1', 'artistas artista NCCP000 0.992424', '. . Fp 1']\n",
      "<Todos, todo, DI0MP0, 0.70665>\n",
      "<los, el, DA0MP0, 0.992728>\n",
      "<niños, niño, NCMP000, 0.998721>\n",
      "<nacen, nacer, VMIP3P0, 1>\n",
      "<artistas, artista, NCCP000, 0.992424>\n",
      "<., ., Fp, 1>\n"
     ]
    }
   ],
   "source": [
    "freelingResponse = freelingAnalizer('Todos los niños nacen artistas.')\n",
    "print(freelingResponse)\n",
    "\n",
    "morfos = [getMorfo(fr) for fr in freelingResponse]\n",
    "for m in morfos:\n",
    "    print(m)"
   ]
  },
  {
   "cell_type": "code",
   "execution_count": 54,
   "id": "covered-rebound",
   "metadata": {},
   "outputs": [
    {
     "name": "stdout",
     "output_type": "stream",
     "text": [
      "<Todos, todo, DI0MP0, 0.70665>\n",
      "<los, el, DA0MP0, 0.992728>\n",
      "<niños, niño, NCMP000, 0.998721>\n",
      "<nacen, nacer, VMIP3P0, 1>\n",
      "<artistas, artista, NCCP000, 0.992424>\n",
      "<., ., Fp, 1>\n"
     ]
    }
   ],
   "source": [
    "def freelingGetMorfos(text):\n",
    "    freelingResponse = freelingAnalizer(text)\n",
    "    morfos = [getMorfo(fr) for fr in freelingResponse]\n",
    "    return morfos\n",
    "\n",
    "morfos = freelingGetMorfos('Todos los niños nacen artistas.')\n",
    "for m in morfos:\n",
    "    print(m)"
   ]
  },
  {
   "cell_type": "code",
   "execution_count": 15,
   "id": "experimental-migration",
   "metadata": {},
   "outputs": [
    {
     "data": {
      "text/plain": [
       "['../data/tweetsPath/1201675455042072578.json',\n",
       " '../data/tweetsPath/1201710024931840000.json',\n",
       " '../data/tweetsPath/1201710200706813952.json',\n",
       " '../data/tweetsPath/1201714255508230145.json',\n",
       " '../data/tweetsPath/1201715323336040449.json',\n",
       " '...',\n",
       " '../data/speeches/17212-DSCD-14-PL-002.json',\n",
       " '../data/speeches/17213-DSCD-14-PL-002.json',\n",
       " '../data/speeches/17214-DSCD-14-PL-002.json',\n",
       " '../data/speeches/17215-DSCD-14-PL-002.json',\n",
       " '../data/speeches/17216-DSCD-14-PL-002.json']"
      ]
     },
     "execution_count": 15,
     "metadata": {},
     "output_type": "execute_result"
    }
   ],
   "source": [
    "tweetsPaths = [join(tweetsPath, f) for f in listdir(tweetsPath)]\n",
    "speechesPaths = [join(speechesPath, f) for f in listdir(speechesPath)]\n",
    "\n",
    "files = tweetsPaths + speechesPaths\n",
    "files[0:5] + ['...'] + files[-6:-1]"
   ]
  },
  {
   "cell_type": "code",
   "execution_count": 16,
   "id": "laughing-crest",
   "metadata": {},
   "outputs": [
    {
     "data": {
      "text/plain": [
       "68402"
      ]
     },
     "execution_count": 16,
     "metadata": {},
     "output_type": "execute_result"
    }
   ],
   "source": [
    "len(files)"
   ]
  },
  {
   "cell_type": "code",
   "execution_count": 60,
   "id": "intellectual-convention",
   "metadata": {},
   "outputs": [
    {
     "data": {
      "application/vnd.jupyter.widget-view+json": {
       "model_id": "ca202e65fa474370a7e546aa3bd69366",
       "version_major": 2,
       "version_minor": 0
      },
      "text/plain": [
       "  0%|          | 0/68402 [00:00<?, ?it/s]"
      ]
     },
     "metadata": {},
     "output_type": "display_data"
    },
    {
     "name": "stdout",
     "output_type": "stream",
     "text": [
      "../data/tweetsPath/1201675455042072578.json\n",
      "{\n",
      "    \"created_at\": \"2019-12-03T01:32:09.000Z\",\n",
      "    \"id\": \"1201675455042072578\",\n",
      "    \"text\": \"Las temperaturas podr\\u00edan subir 3 \\u00baC m\\u00e1s en C\\u00f3rdoba en los pr\\u00f3ximos 30 a\\u00f1os si no se reducen las emisiones | CORD\\u00d3POLIS, el Diario Digital de C\\u00f3rdoba https://t.co/YUamBC8kqQ v\\u00eda @Cordopolis_es\",\n",
      "    \"lang\": \"es\",\n",
      "    \"diputado\": {\n",
      "        \"apellidos\": \"Hurtado Zurera\",\n",
      "        \"formacion\": \"PSOE\",\n",
      "        \"apellidosNombre\": \"Hurtado Zurera, Antonio\",\n",
      "        \"fchBaja\": \"\",\n",
      "        \"genero\": 1,\n",
      "        \"fchAlta\": \"25/02/2020\",\n",
      "        \"idLegislatura\": 14,\n",
      "        \"grupo\": \"Grupo Parlamentario Socialista\",\n",
      "        \"idCircunscripcion\": 14,\n",
      "        \"nombreCircunscripcion\": \"C\\u00f3rdoba\",\n",
      "        \"nombre\": \"Antonio\",\n",
      "        \"codParlamentario\": 372,\n",
      "        \"twitter\": \"https://twitter.com/AntonioHurtado\",\n",
      "        \"twitterUserName\": \"AntonioHurtado\",\n",
      "        \"twitterUserId\": \"20585781\"\n",
      "    },\n",
      "    \"freeling\": [\n",
      "        \n"
     ]
    },
    {
     "ename": "JSONDecodeError",
     "evalue": "Expecting value: line 24 column 9 (char 963)",
     "output_type": "error",
     "traceback": [
      "\u001b[0;31m---------------------------------------------------------------------------\u001b[0m",
      "\u001b[0;31mJSONDecodeError\u001b[0m                           Traceback (most recent call last)",
      "\u001b[0;32m<ipython-input-60-57190836796d>\u001b[0m in \u001b[0;36m<module>\u001b[0;34m\u001b[0m\n\u001b[1;32m     22\u001b[0m \u001b[0;32mfor\u001b[0m \u001b[0mfile\u001b[0m \u001b[0;32min\u001b[0m \u001b[0mtqdm\u001b[0m\u001b[0;34m(\u001b[0m\u001b[0mfiles\u001b[0m\u001b[0;34m)\u001b[0m\u001b[0;34m:\u001b[0m\u001b[0;34m\u001b[0m\u001b[0;34m\u001b[0m\u001b[0m\n\u001b[1;32m     23\u001b[0m     \u001b[0mprint\u001b[0m\u001b[0;34m(\u001b[0m\u001b[0mfile\u001b[0m\u001b[0;34m)\u001b[0m\u001b[0;34m\u001b[0m\u001b[0;34m\u001b[0m\u001b[0m\n\u001b[0;32m---> 24\u001b[0;31m     \u001b[0manalize\u001b[0m\u001b[0;34m(\u001b[0m\u001b[0mfile\u001b[0m\u001b[0;34m)\u001b[0m\u001b[0;34m\u001b[0m\u001b[0;34m\u001b[0m\u001b[0m\n\u001b[0m",
      "\u001b[0;32m<ipython-input-60-57190836796d>\u001b[0m in \u001b[0;36manalize\u001b[0;34m(path)\u001b[0m\n\u001b[1;32m      3\u001b[0m         \u001b[0mstg_json\u001b[0m \u001b[0;34m=\u001b[0m \u001b[0mf\u001b[0m\u001b[0;34m.\u001b[0m\u001b[0mread\u001b[0m\u001b[0;34m(\u001b[0m\u001b[0;34m)\u001b[0m\u001b[0;34m\u001b[0m\u001b[0;34m\u001b[0m\u001b[0m\n\u001b[1;32m      4\u001b[0m         \u001b[0mprint\u001b[0m\u001b[0;34m(\u001b[0m\u001b[0mstg_json\u001b[0m\u001b[0;34m)\u001b[0m\u001b[0;34m\u001b[0m\u001b[0;34m\u001b[0m\u001b[0m\n\u001b[0;32m----> 5\u001b[0;31m         \u001b[0mdata\u001b[0m \u001b[0;34m=\u001b[0m \u001b[0mjson\u001b[0m\u001b[0;34m.\u001b[0m\u001b[0mloads\u001b[0m\u001b[0;34m(\u001b[0m\u001b[0mstg_json\u001b[0m\u001b[0;34m)\u001b[0m\u001b[0;34m\u001b[0m\u001b[0;34m\u001b[0m\u001b[0m\n\u001b[0m\u001b[1;32m      6\u001b[0m \u001b[0;34m\u001b[0m\u001b[0m\n\u001b[1;32m      7\u001b[0m     \u001b[0;31m#if 'freeling' in data:\u001b[0m\u001b[0;34m\u001b[0m\u001b[0;34m\u001b[0m\u001b[0;34m\u001b[0m\u001b[0m\n",
      "\u001b[0;32m/opt/conda/lib/python3.8/json/__init__.py\u001b[0m in \u001b[0;36mloads\u001b[0;34m(s, cls, object_hook, parse_float, parse_int, parse_constant, object_pairs_hook, **kw)\u001b[0m\n\u001b[1;32m    355\u001b[0m             \u001b[0mparse_int\u001b[0m \u001b[0;32mis\u001b[0m \u001b[0;32mNone\u001b[0m \u001b[0;32mand\u001b[0m \u001b[0mparse_float\u001b[0m \u001b[0;32mis\u001b[0m \u001b[0;32mNone\u001b[0m \u001b[0;32mand\u001b[0m\u001b[0;34m\u001b[0m\u001b[0;34m\u001b[0m\u001b[0m\n\u001b[1;32m    356\u001b[0m             parse_constant is None and object_pairs_hook is None and not kw):\n\u001b[0;32m--> 357\u001b[0;31m         \u001b[0;32mreturn\u001b[0m \u001b[0m_default_decoder\u001b[0m\u001b[0;34m.\u001b[0m\u001b[0mdecode\u001b[0m\u001b[0;34m(\u001b[0m\u001b[0ms\u001b[0m\u001b[0;34m)\u001b[0m\u001b[0;34m\u001b[0m\u001b[0;34m\u001b[0m\u001b[0m\n\u001b[0m\u001b[1;32m    358\u001b[0m     \u001b[0;32mif\u001b[0m \u001b[0mcls\u001b[0m \u001b[0;32mis\u001b[0m \u001b[0;32mNone\u001b[0m\u001b[0;34m:\u001b[0m\u001b[0;34m\u001b[0m\u001b[0;34m\u001b[0m\u001b[0m\n\u001b[1;32m    359\u001b[0m         \u001b[0mcls\u001b[0m \u001b[0;34m=\u001b[0m \u001b[0mJSONDecoder\u001b[0m\u001b[0;34m\u001b[0m\u001b[0;34m\u001b[0m\u001b[0m\n",
      "\u001b[0;32m/opt/conda/lib/python3.8/json/decoder.py\u001b[0m in \u001b[0;36mdecode\u001b[0;34m(self, s, _w)\u001b[0m\n\u001b[1;32m    335\u001b[0m \u001b[0;34m\u001b[0m\u001b[0m\n\u001b[1;32m    336\u001b[0m         \"\"\"\n\u001b[0;32m--> 337\u001b[0;31m         \u001b[0mobj\u001b[0m\u001b[0;34m,\u001b[0m \u001b[0mend\u001b[0m \u001b[0;34m=\u001b[0m \u001b[0mself\u001b[0m\u001b[0;34m.\u001b[0m\u001b[0mraw_decode\u001b[0m\u001b[0;34m(\u001b[0m\u001b[0ms\u001b[0m\u001b[0;34m,\u001b[0m \u001b[0midx\u001b[0m\u001b[0;34m=\u001b[0m\u001b[0m_w\u001b[0m\u001b[0;34m(\u001b[0m\u001b[0ms\u001b[0m\u001b[0;34m,\u001b[0m \u001b[0;36m0\u001b[0m\u001b[0;34m)\u001b[0m\u001b[0;34m.\u001b[0m\u001b[0mend\u001b[0m\u001b[0;34m(\u001b[0m\u001b[0;34m)\u001b[0m\u001b[0;34m)\u001b[0m\u001b[0;34m\u001b[0m\u001b[0;34m\u001b[0m\u001b[0m\n\u001b[0m\u001b[1;32m    338\u001b[0m         \u001b[0mend\u001b[0m \u001b[0;34m=\u001b[0m \u001b[0m_w\u001b[0m\u001b[0;34m(\u001b[0m\u001b[0ms\u001b[0m\u001b[0;34m,\u001b[0m \u001b[0mend\u001b[0m\u001b[0;34m)\u001b[0m\u001b[0;34m.\u001b[0m\u001b[0mend\u001b[0m\u001b[0;34m(\u001b[0m\u001b[0;34m)\u001b[0m\u001b[0;34m\u001b[0m\u001b[0;34m\u001b[0m\u001b[0m\n\u001b[1;32m    339\u001b[0m         \u001b[0;32mif\u001b[0m \u001b[0mend\u001b[0m \u001b[0;34m!=\u001b[0m \u001b[0mlen\u001b[0m\u001b[0;34m(\u001b[0m\u001b[0ms\u001b[0m\u001b[0;34m)\u001b[0m\u001b[0;34m:\u001b[0m\u001b[0;34m\u001b[0m\u001b[0;34m\u001b[0m\u001b[0m\n",
      "\u001b[0;32m/opt/conda/lib/python3.8/json/decoder.py\u001b[0m in \u001b[0;36mraw_decode\u001b[0;34m(self, s, idx)\u001b[0m\n\u001b[1;32m    353\u001b[0m             \u001b[0mobj\u001b[0m\u001b[0;34m,\u001b[0m \u001b[0mend\u001b[0m \u001b[0;34m=\u001b[0m \u001b[0mself\u001b[0m\u001b[0;34m.\u001b[0m\u001b[0mscan_once\u001b[0m\u001b[0;34m(\u001b[0m\u001b[0ms\u001b[0m\u001b[0;34m,\u001b[0m \u001b[0midx\u001b[0m\u001b[0;34m)\u001b[0m\u001b[0;34m\u001b[0m\u001b[0;34m\u001b[0m\u001b[0m\n\u001b[1;32m    354\u001b[0m         \u001b[0;32mexcept\u001b[0m \u001b[0mStopIteration\u001b[0m \u001b[0;32mas\u001b[0m \u001b[0merr\u001b[0m\u001b[0;34m:\u001b[0m\u001b[0;34m\u001b[0m\u001b[0;34m\u001b[0m\u001b[0m\n\u001b[0;32m--> 355\u001b[0;31m             \u001b[0;32mraise\u001b[0m \u001b[0mJSONDecodeError\u001b[0m\u001b[0;34m(\u001b[0m\u001b[0;34m\"Expecting value\"\u001b[0m\u001b[0;34m,\u001b[0m \u001b[0ms\u001b[0m\u001b[0;34m,\u001b[0m \u001b[0merr\u001b[0m\u001b[0;34m.\u001b[0m\u001b[0mvalue\u001b[0m\u001b[0;34m)\u001b[0m \u001b[0;32mfrom\u001b[0m \u001b[0;32mNone\u001b[0m\u001b[0;34m\u001b[0m\u001b[0;34m\u001b[0m\u001b[0m\n\u001b[0m\u001b[1;32m    356\u001b[0m         \u001b[0;32mreturn\u001b[0m \u001b[0mobj\u001b[0m\u001b[0;34m,\u001b[0m \u001b[0mend\u001b[0m\u001b[0;34m\u001b[0m\u001b[0;34m\u001b[0m\u001b[0m\n",
      "\u001b[0;31mJSONDecodeError\u001b[0m: Expecting value: line 24 column 9 (char 963)"
     ]
    }
   ],
   "source": [
    "def analize(path):    \n",
    "    with open(path, 'r') as f:\n",
    "        stg_json = f.read()\n",
    "        print(stg_json)\n",
    "        data = json.loads(stg_json)\n",
    "        \n",
    "    #if 'freeling' in data:\n",
    "    #    return\n",
    "    \n",
    "    text = data['text']\n",
    "    if not re.search('[\\.\\!\\?]$', text):\n",
    "        text += '.'\n",
    "    \n",
    "    morfos = freelingGetMorfos(text)\n",
    "    print(morfos.toJSON())\n",
    "    \n",
    "    data['freeling'] = morfos\n",
    "    with open(path, 'w') as f:\n",
    "        json.dump(data, f, indent=4)\n",
    "        \n",
    "        \n",
    "for file in tqdm(files):\n",
    "    print(file)\n",
    "    analize(file)"
   ]
  }
 ],
 "metadata": {
  "kernelspec": {
   "display_name": "Python 3",
   "language": "python",
   "name": "python3"
  },
  "language_info": {
   "codemirror_mode": {
    "name": "ipython",
    "version": 3
   },
   "file_extension": ".py",
   "mimetype": "text/x-python",
   "name": "python",
   "nbconvert_exporter": "python",
   "pygments_lexer": "ipython3",
   "version": "3.8.8"
  }
 },
 "nbformat": 4,
 "nbformat_minor": 5
}
