{
 "cells": [
  {
   "cell_type": "markdown",
   "id": "pregnant-signature",
   "metadata": {},
   "source": [
    "# Freeling\n",
    "\n",
    "fent us de freeling analitzarem els textes"
   ]
  },
  {
   "cell_type": "code",
   "execution_count": 1,
   "id": "numerous-ballet",
   "metadata": {
    "tags": []
   },
   "outputs": [],
   "source": [
    "import json\n",
    "import os\n",
    "from os import listdir\n",
    "from os.path import join\n",
    "import re\n",
    "import requests\n",
    "\n",
    "from tqdm.notebook import tqdm\n",
    "\n",
    "tweetsPath = '../data/tweets'\n",
    "speechesPath = '../data/speeches'\n",
    "\n",
    "\n",
    "def freelingAnalizer(text, logs=False):\n",
    "        if logs:\n",
    "            print(text)\n",
    "        headers = {'Content-Type': 'text/plain'}\n",
    "        \n",
    "        response = requests.post('http://my-freeling-api:8080', headers=headers, data=text.encode('utf-8'))\n",
    "        content = response.content.decode('utf-8')\n",
    "        content = re.sub('\\n\\n', '\\n', content)\n",
    "        content = re.sub('\\n$', '', content)\n",
    "        \n",
    "        if logs:\n",
    "            print(content)\n",
    "        \n",
    "        parts = content.split('\\n')\n",
    "        return parts\n"
   ]
  },
  {
   "cell_type": "code",
   "execution_count": 2,
   "id": "banned-stomach",
   "metadata": {},
   "outputs": [],
   "source": [
    "class Morfo:\n",
    "    def __init__(self, word, lema, pos, prob):\n",
    "        self.word = word\n",
    "        self.lema = lema\n",
    "        self.pos = pos\n",
    "        self.prob = prob\n",
    "        \n",
    "    def isAdjective(self):\n",
    "        return self.pos[0] == 'A'\n",
    "    \n",
    "    def isConjunction(self):\n",
    "        return self.pos[0] == 'C'\n",
    "    \n",
    "    def isDeterminer(self):\n",
    "        return self.pos[0] == 'D'\n",
    "    \n",
    "    def isNoun(self):\n",
    "        return self.pos[0] == 'N'\n",
    "    \n",
    "    def isPronoun(self):\n",
    "        return self.pos[0] == 'P'\n",
    "    \n",
    "    def isAdverb(self):\n",
    "        return self.pos[0] == 'R'\n",
    "    \n",
    "    def isAdposition(self):\n",
    "        return self.pos[0] == 'S'\n",
    "    \n",
    "    def isVerb(self):\n",
    "        return self.pos[0] == 'V'\n",
    "    \n",
    "    def isNumber(self):\n",
    "        return self.pos[0] == 'N'\n",
    "    \n",
    "    def isDate(self):\n",
    "        return self.pos[0] == 'D'\n",
    "    \n",
    "    def isInterjection(self):\n",
    "        return self.pos[0] == 'I'\n",
    "    \n",
    "    def isPunctuation(self):\n",
    "        return self.pos[0] == 'F'\n",
    "    \n",
    "    def isOther(self):\n",
    "        return self.pos[0] == 'Z'\n",
    "    \n",
    "    def isNonSignificant(self):\n",
    "        return self.isConjunction() or self.isDeterminer() or self.isPronoun() or self.isAdposition() or self.isOther()\n",
    "        \n",
    "    def __str__(self):\n",
    "        return f'<{self.word}, {self.lema}, {self.pos}, {self.prob}>'\n",
    "    \n",
    "    #def toJSON(self):\n",
    "    #    return json.dumps(self, default=lambda o: o.__dict__, sort_keys=True, indent=4)\n",
    "        \n",
    "def getMorfo(freelingResponse):\n",
    "    parts = freelingResponse.split(' ')\n",
    "    if len(parts) != 4:\n",
    "        return None\n",
    "    return Morfo(parts[0] ,parts[1], parts[2], parts[3])"
   ]
  },
  {
   "cell_type": "code",
   "execution_count": 3,
   "id": "formal-march",
   "metadata": {},
   "outputs": [
    {
     "name": "stdout",
     "output_type": "stream",
     "text": [
      "['Todos todo DI0MP0 0.70665', 'los el DA0MP0 0.992728', 'niños niño NCMP000 0.998721', 'nacen nacer VMIP3P0 1', 'artistas artista NCCP000 0.992424', '. . Fp 1']\n",
      "<Todos, todo, DI0MP0, 0.70665>\n",
      "<los, el, DA0MP0, 0.992728>\n",
      "<niños, niño, NCMP000, 0.998721>\n",
      "<nacen, nacer, VMIP3P0, 1>\n",
      "<artistas, artista, NCCP000, 0.992424>\n",
      "<., ., Fp, 1>\n"
     ]
    }
   ],
   "source": [
    "freelingResponse = freelingAnalizer('Todos los niños nacen artistas.')\n",
    "print(freelingResponse)\n",
    "\n",
    "morfos = [getMorfo(fr) for fr in freelingResponse]\n",
    "for m in morfos:\n",
    "    print(m)"
   ]
  },
  {
   "cell_type": "code",
   "execution_count": 4,
   "id": "narrow-trick",
   "metadata": {},
   "outputs": [
    {
     "name": "stdout",
     "output_type": "stream",
     "text": [
      "<Todos, todo, DI0MP0, 0.70665>\n",
      "<los, el, DA0MP0, 0.992728>\n",
      "<niños, niño, NCMP000, 0.998721>\n",
      "<nacen, nacer, VMIP3P0, 1>\n",
      "<artistas, artista, NCCP000, 0.992424>\n",
      "<., ., Fp, 1>\n"
     ]
    }
   ],
   "source": [
    "def freelingGetMorfos(text):\n",
    "    freelingResponse = freelingAnalizer(text)\n",
    "    morfos = [getMorfo(fr) for fr in freelingResponse]\n",
    "    return morfos\n",
    "\n",
    "morfos = freelingGetMorfos('Todos los niños nacen artistas.')\n",
    "for m in morfos:\n",
    "    print(m)"
   ]
  },
  {
   "cell_type": "code",
   "execution_count": 5,
   "id": "friendly-disclosure",
   "metadata": {},
   "outputs": [
    {
     "data": {
      "text/plain": [
       "['../data/tweets/1201675455042072578.json',\n",
       " '../data/tweets/1201710024931840000.json',\n",
       " '../data/tweets/1201717491141136390.json',\n",
       " '../data/tweets/1201718618737786882.json',\n",
       " '../data/tweets/1201724641959665664.json',\n",
       " '...',\n",
       " '../data/speeches/17212-DSCD-14-PL-002.json',\n",
       " '../data/speeches/17213-DSCD-14-PL-002.json',\n",
       " '../data/speeches/17214-DSCD-14-PL-002.json',\n",
       " '../data/speeches/17215-DSCD-14-PL-002.json',\n",
       " '../data/speeches/17216-DSCD-14-PL-002.json']"
      ]
     },
     "execution_count": 5,
     "metadata": {},
     "output_type": "execute_result"
    }
   ],
   "source": [
    "tweetsPaths = [join(tweetsPath, f) for f in listdir(tweetsPath)]\n",
    "speechesPaths = [join(speechesPath, f) for f in listdir(speechesPath)]\n",
    "\n",
    "files = tweetsPaths + speechesPaths\n",
    "files[0:5] + ['...'] + files[-6:-1]"
   ]
  },
  {
   "cell_type": "code",
   "execution_count": 6,
   "id": "minute-order",
   "metadata": {},
   "outputs": [
    {
     "data": {
      "text/plain": [
       "61743"
      ]
     },
     "execution_count": 6,
     "metadata": {},
     "output_type": "execute_result"
    }
   ],
   "source": [
    "len(files)"
   ]
  },
  {
   "cell_type": "code",
   "execution_count": 7,
   "id": "altered-archive",
   "metadata": {},
   "outputs": [
    {
     "data": {
      "application/vnd.jupyter.widget-view+json": {
       "model_id": "51ae7ca100884c879dca3647e01e0a9d",
       "version_major": 2,
       "version_minor": 0
      },
      "text/plain": [
       "  0%|          | 0/61743 [00:00<?, ?it/s]"
      ]
     },
     "metadata": {},
     "output_type": "display_data"
    }
   ],
   "source": [
    "def dumper(obj):\n",
    "    try:\n",
    "        return obj.toJSON()\n",
    "    except:\n",
    "        return obj.__dict__\n",
    "\n",
    "def analize(path):    \n",
    "    with open(path, 'r') as f:\n",
    "        stg_json = f.read()\n",
    "        data = json.loads(stg_json)\n",
    "        \n",
    "    if 'freeling' in data:\n",
    "        return\n",
    "    \n",
    "    text = data['text']\n",
    "    if not re.search('[\\.\\!\\?]$', text):\n",
    "        text += '.'\n",
    "    \n",
    "    morfos = freelingGetMorfos(text)    \n",
    "    \n",
    "    data['freeling'] = morfos\n",
    "    with open(path, 'w') as f:\n",
    "        json.dump(data, f, default=dumper, indent=4)\n",
    "\n",
    "        \n",
    "for file in tqdm(files):\n",
    "    analize(file)"
   ]
  },
  {
   "cell_type": "code",
   "execution_count": 13,
   "id": "acquired-fortune",
   "metadata": {},
   "outputs": [
    {
     "data": {
      "application/vnd.jupyter.widget-view+json": {
       "model_id": "3b5dd0dc367f47cc9ceeb765e0825280",
       "version_major": 2,
       "version_minor": 0
      },
      "text/plain": [
       "  0%|          | 0/61743 [00:00<?, ?it/s]"
      ]
     },
     "metadata": {},
     "output_type": "display_data"
    }
   ],
   "source": [
    "fails = []\n",
    "for file in tqdm(files):\n",
    "     with open(file, 'r') as f:\n",
    "        stg_json = f.read()\n",
    "        data = json.loads(stg_json)\n",
    "        fl = data['freeling']\n",
    "        if len(fl) == 0:\n",
    "            fails.append(file)\n",
    "\n",
    "for fail in fails:\n",
    "    print(fail)"
   ]
  }
 ],
 "metadata": {
  "kernelspec": {
   "display_name": "Python 3",
   "language": "python",
   "name": "python3"
  },
  "language_info": {
   "codemirror_mode": {
    "name": "ipython",
    "version": 3
   },
   "file_extension": ".py",
   "mimetype": "text/x-python",
   "name": "python",
   "nbconvert_exporter": "python",
   "pygments_lexer": "ipython3",
   "version": "3.8.8"
  }
 },
 "nbformat": 4,
 "nbformat_minor": 5
}
