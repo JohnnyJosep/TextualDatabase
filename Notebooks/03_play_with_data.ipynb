{
 "cells": [
  {
   "cell_type": "markdown",
   "id": "curious-oasis",
   "metadata": {},
   "source": [
    "# Dades de la primera setmana"
   ]
  },
  {
   "cell_type": "code",
   "execution_count": 1,
   "id": "included-primary",
   "metadata": {},
   "outputs": [
    {
     "data": {
      "text/plain": [
       "{'name': 'my-elasticsearch',\n",
       " 'cluster_name': 'docker-cluster',\n",
       " 'cluster_uuid': 'TrnE0Z3ZRh2tnvlxwDa-Yw',\n",
       " 'version': {'number': '7.10.1',\n",
       "  'build_flavor': 'default',\n",
       "  'build_type': 'docker',\n",
       "  'build_hash': '1c34507e66d7db1211f66f3513706fdf548736aa',\n",
       "  'build_date': '2020-12-05T01:00:33.671820Z',\n",
       "  'build_snapshot': False,\n",
       "  'lucene_version': '8.7.0',\n",
       "  'minimum_wire_compatibility_version': '6.8.0',\n",
       "  'minimum_index_compatibility_version': '6.0.0-beta1'},\n",
       " 'tagline': 'You Know, for Search'}"
      ]
     },
     "execution_count": 1,
     "metadata": {},
     "output_type": "execute_result"
    }
   ],
   "source": [
    "from elasticsearch import Elasticsearch\n",
    "import json\n",
    "\n",
    "# Define config\n",
    "host = \"my-elasticsearch\"\n",
    "username= 'elastic'\n",
    "password= 'password'\n",
    "port = 9200\n",
    "timeout = 1000\n",
    "\n",
    "# Init Elasticsearch instance\n",
    "es = Elasticsearch(\n",
    "    [{'host': host, 'port': port}],\n",
    "    timeout=timeout,\n",
    "    http_auth=(username, password)\n",
    ")\n",
    "es.info()"
   ]
  },
  {
   "cell_type": "code",
   "execution_count": 3,
   "id": "atlantic-biology",
   "metadata": {},
   "outputs": [
    {
     "name": "stdout",
     "output_type": "stream",
     "text": [
      "144\n"
     ]
    }
   ],
   "source": [
    "index = 'tfg-*'\n",
    "body = {\n",
    "    \"query\": {\n",
    "        \"range\": {\n",
    "            \"created_at\": {\n",
    "                \"gte\": \"2019-12-02T00:00:00.000Z\",\n",
    "                \"lt\": \"2019-12-09T00:00:00.000Z\"\n",
    "            }\n",
    "        }\n",
    "    }\n",
    "}\n",
    "size = 25\n",
    "dataset = []\n",
    "\n",
    "def process_hits(hits):\n",
    "    for hit in hits:\n",
    "        item = {} \n",
    "        item['_id'] = hit['_id']\n",
    "        item['_type'] = hit['_type']\n",
    "        item['_index'] = hit['_index']\n",
    "        for k in hit['_source'].keys():\n",
    "            if k == 'diputado':\n",
    "                continue\n",
    "            item[k] = hit['_source'][k]\n",
    "        \n",
    "        for k in hit['_source']['diputado'].keys():\n",
    "            item[f'diputado.{k}'] = hit['_source']['diputado'][k]\n",
    "        dataset.append(item)\n",
    "\n",
    "# init scroll by scan\n",
    "data = es.search(\n",
    "    index=index,\n",
    "    scroll='2m',\n",
    "    size=size,\n",
    "    body=body\n",
    ")\n",
    "\n",
    "sid = data['_scroll_id']\n",
    "scroll_size = len(data['hits']['hits'])\n",
    "\n",
    "while scroll_size > 0:    \n",
    "    # before scroll, process current batch of hits\n",
    "    process_hits(data['hits']['hits'])\n",
    "    \n",
    "    data = es.scroll(scroll_id=sid, scroll='2m')\n",
    "    \n",
    "    \n",
    "    # Update the scroll ID\n",
    "    sid = data['_scroll_id']\n",
    "    # Get the number of results that returned in the last scroll\n",
    "    scroll_size = len(data['hits']['hits'])\n",
    "\n",
    "print(len(dataset))"
   ]
  },
  {
   "cell_type": "code",
   "execution_count": 4,
   "id": "bottom-fashion",
   "metadata": {},
   "outputs": [
    {
     "data": {
      "text/plain": [
       "{'_id': 'H-0To3gBIirSknWciRnx',\n",
       " '_type': '_doc',\n",
       " '_index': 'tfg-tweets',\n",
       " 'id': '1203771646017966080',\n",
       " 'text': 'El vídeo de Otegi llamando \"desgraciados\" a los españoles que apoyan a la Guardia Civil - Periodista Digital https://t.co/jq0hs1PJQj',\n",
       " 'freeling': 'El el DA0MS0 1\\nvídeo vídeo NCMS000 1\\nde de SP 0.999961\\nOtegi otegi NP00SP0 1\\nllamando llamar VMG0000 1\\n\" \" Fe 1\\ndesgraciados desgraciado NCMP000 0.376253\\n\" \" Fe 1\\na a SP 0.998775\\nlos el DA0MP0 0.992728\\nespañoles español NCMP000 0.413379\\nque que PR0CN00 0.550139\\napoyan apoyar VMIP3P0 1\\na a SP 0.998775\\nla el DA0FS0 0.98926\\nGuardia_Civil guardia_civil NP00O00 1\\n- - Fg 1\\nPeriodista_Digital periodista_digital NP00V00 1\\nhttps://t.co/jq0hs1PJQj https://t.co/jq0hs1PJQj Z 1\\n. . Fp 1',\n",
       " 'created_at': '2019-12-08T20:21:40.000Z',\n",
       " 'diputado.apellidos': 'Carmelo',\n",
       " 'diputado.codParlamentario': 241,\n",
       " 'diputado.formacion': 'PP',\n",
       " 'diputado.genero': 1,\n",
       " 'diputado.grupo': 'Grupo Parlamentario Popular en el Congreso',\n",
       " 'diputado.idCircunscripcion': 21,\n",
       " 'diputado.nombreCircunscripcion': 'Huelva'}"
      ]
     },
     "execution_count": 4,
     "metadata": {},
     "output_type": "execute_result"
    }
   ],
   "source": [
    "dataset[24]"
   ]
  },
  {
   "cell_type": "code",
   "execution_count": 5,
   "id": "frank-visit",
   "metadata": {},
   "outputs": [
    {
     "data": {
      "text/html": [
       "<div>\n",
       "<style scoped>\n",
       "    .dataframe tbody tr th:only-of-type {\n",
       "        vertical-align: middle;\n",
       "    }\n",
       "\n",
       "    .dataframe tbody tr th {\n",
       "        vertical-align: top;\n",
       "    }\n",
       "\n",
       "    .dataframe thead th {\n",
       "        text-align: right;\n",
       "    }\n",
       "</style>\n",
       "<table border=\"1\" class=\"dataframe\">\n",
       "  <thead>\n",
       "    <tr style=\"text-align: right;\">\n",
       "      <th></th>\n",
       "      <th>_id</th>\n",
       "      <th>_type</th>\n",
       "      <th>_index</th>\n",
       "      <th>id</th>\n",
       "      <th>text</th>\n",
       "      <th>freeling</th>\n",
       "      <th>created_at</th>\n",
       "      <th>diputado.apellidos</th>\n",
       "      <th>diputado.codParlamentario</th>\n",
       "      <th>diputado.formacion</th>\n",
       "      <th>diputado.genero</th>\n",
       "      <th>diputado.grupo</th>\n",
       "      <th>diputado.idCircunscripcion</th>\n",
       "      <th>diputado.nombreCircunscripcion</th>\n",
       "    </tr>\n",
       "  </thead>\n",
       "  <tbody>\n",
       "    <tr>\n",
       "      <th>0</th>\n",
       "      <td>B-0To3gBIirSknWccxlR</td>\n",
       "      <td>_doc</td>\n",
       "      <td>tfg-tweets</td>\n",
       "      <td>1203141389346840576</td>\n",
       "      <td>https://t.co/ppNoPWbdbj</td>\n",
       "      <td>FL-SERVER-READY</td>\n",
       "      <td>2019-12-07T02:37:15.000Z</td>\n",
       "      <td>Antonio</td>\n",
       "      <td>372</td>\n",
       "      <td>PSOE</td>\n",
       "      <td>1</td>\n",
       "      <td>Grupo Parlamentario Socialista</td>\n",
       "      <td>14</td>\n",
       "      <td>Córdoba</td>\n",
       "    </tr>\n",
       "    <tr>\n",
       "      <th>1</th>\n",
       "      <td>CO0To3gBIirSknWcdBli</td>\n",
       "      <td>_doc</td>\n",
       "      <td>tfg-tweets</td>\n",
       "      <td>1203238410128891905</td>\n",
       "      <td>Un mes de la Prep, la pastilla que evita la tr...</td>\n",
       "      <td>Un uno DI0MS0 0.99698\\nmes mes NCMS000 1\\nde d...</td>\n",
       "      <td>2019-12-07T09:02:46.000Z</td>\n",
       "      <td>Antonio</td>\n",
       "      <td>372</td>\n",
       "      <td>PSOE</td>\n",
       "      <td>1</td>\n",
       "      <td>Grupo Parlamentario Socialista</td>\n",
       "      <td>14</td>\n",
       "      <td>Córdoba</td>\n",
       "    </tr>\n",
       "    <tr>\n",
       "      <th>2</th>\n",
       "      <td>Ce0To3gBIirSknWcdRlL</td>\n",
       "      <td>_doc</td>\n",
       "      <td>tfg-tweets</td>\n",
       "      <td>1203239323581194245</td>\n",
       "      <td>Una multitudinaria Marcha por el Clima arranca...</td>\n",
       "      <td>Una uno DI0FS0 0.951973\\nmultitudinaria multit...</td>\n",
       "      <td>2019-12-07T09:06:24.000Z</td>\n",
       "      <td>Antonio</td>\n",
       "      <td>372</td>\n",
       "      <td>PSOE</td>\n",
       "      <td>1</td>\n",
       "      <td>Grupo Parlamentario Socialista</td>\n",
       "      <td>14</td>\n",
       "      <td>Córdoba</td>\n",
       "    </tr>\n",
       "    <tr>\n",
       "      <th>3</th>\n",
       "      <td>Cu0To3gBIirSknWcdhkh</td>\n",
       "      <td>_doc</td>\n",
       "      <td>tfg-tweets</td>\n",
       "      <td>1203249204581294080</td>\n",
       "      <td>Un honor ser vuestro compañero https://t.co/PM...</td>\n",
       "      <td>FL-SERVER-READY</td>\n",
       "      <td>2019-12-07T09:45:40.000Z</td>\n",
       "      <td>Juan Antonio</td>\n",
       "      <td>35</td>\n",
       "      <td>PP</td>\n",
       "      <td>1</td>\n",
       "      <td>Grupo Parlamentario Popular en el Congreso</td>\n",
       "      <td>13</td>\n",
       "      <td>Ciudad Real</td>\n",
       "    </tr>\n",
       "    <tr>\n",
       "      <th>4</th>\n",
       "      <td>C-0To3gBIirSknWcdxkv</td>\n",
       "      <td>_doc</td>\n",
       "      <td>tfg-tweets</td>\n",
       "      <td>1203296764650020864</td>\n",
       "      <td>Esta pregunta que se hace el Alcalde de Madrid...</td>\n",
       "      <td>Esta este DD0FS0 0.978817\\npregunta pregunta N...</td>\n",
       "      <td>2019-12-07T12:54:39.000Z</td>\n",
       "      <td>Marta</td>\n",
       "      <td>237</td>\n",
       "      <td>PP</td>\n",
       "      <td>2</td>\n",
       "      <td>Grupo Parlamentario Popular en el Congreso</td>\n",
       "      <td>15</td>\n",
       "      <td>Coruña (A)</td>\n",
       "    </tr>\n",
       "  </tbody>\n",
       "</table>\n",
       "</div>"
      ],
      "text/plain": [
       "                    _id _type      _index                   id  \\\n",
       "0  B-0To3gBIirSknWccxlR  _doc  tfg-tweets  1203141389346840576   \n",
       "1  CO0To3gBIirSknWcdBli  _doc  tfg-tweets  1203238410128891905   \n",
       "2  Ce0To3gBIirSknWcdRlL  _doc  tfg-tweets  1203239323581194245   \n",
       "3  Cu0To3gBIirSknWcdhkh  _doc  tfg-tweets  1203249204581294080   \n",
       "4  C-0To3gBIirSknWcdxkv  _doc  tfg-tweets  1203296764650020864   \n",
       "\n",
       "                                                text  \\\n",
       "0                            https://t.co/ppNoPWbdbj   \n",
       "1  Un mes de la Prep, la pastilla que evita la tr...   \n",
       "2  Una multitudinaria Marcha por el Clima arranca...   \n",
       "3  Un honor ser vuestro compañero https://t.co/PM...   \n",
       "4  Esta pregunta que se hace el Alcalde de Madrid...   \n",
       "\n",
       "                                            freeling  \\\n",
       "0                                    FL-SERVER-READY   \n",
       "1  Un uno DI0MS0 0.99698\\nmes mes NCMS000 1\\nde d...   \n",
       "2  Una uno DI0FS0 0.951973\\nmultitudinaria multit...   \n",
       "3                                    FL-SERVER-READY   \n",
       "4  Esta este DD0FS0 0.978817\\npregunta pregunta N...   \n",
       "\n",
       "                 created_at diputado.apellidos  diputado.codParlamentario  \\\n",
       "0  2019-12-07T02:37:15.000Z            Antonio                        372   \n",
       "1  2019-12-07T09:02:46.000Z            Antonio                        372   \n",
       "2  2019-12-07T09:06:24.000Z            Antonio                        372   \n",
       "3  2019-12-07T09:45:40.000Z       Juan Antonio                         35   \n",
       "4  2019-12-07T12:54:39.000Z              Marta                        237   \n",
       "\n",
       "  diputado.formacion  diputado.genero  \\\n",
       "0               PSOE                1   \n",
       "1               PSOE                1   \n",
       "2               PSOE                1   \n",
       "3                 PP                1   \n",
       "4                 PP                2   \n",
       "\n",
       "                               diputado.grupo  diputado.idCircunscripcion  \\\n",
       "0              Grupo Parlamentario Socialista                          14   \n",
       "1              Grupo Parlamentario Socialista                          14   \n",
       "2              Grupo Parlamentario Socialista                          14   \n",
       "3  Grupo Parlamentario Popular en el Congreso                          13   \n",
       "4  Grupo Parlamentario Popular en el Congreso                          15   \n",
       "\n",
       "  diputado.nombreCircunscripcion  \n",
       "0                        Córdoba  \n",
       "1                        Córdoba  \n",
       "2                        Córdoba  \n",
       "3                    Ciudad Real  \n",
       "4                     Coruña (A)  "
      ]
     },
     "execution_count": 5,
     "metadata": {},
     "output_type": "execute_result"
    }
   ],
   "source": [
    "import pandas as pd\n",
    "\n",
    "df = pd.DataFrame(dataset)\n",
    "df.head()"
   ]
  },
  {
   "cell_type": "code",
   "execution_count": 85,
   "id": "virgin-executive",
   "metadata": {},
   "outputs": [
    {
     "data": {
      "text/html": [
       "<div>\n",
       "<style scoped>\n",
       "    .dataframe tbody tr th:only-of-type {\n",
       "        vertical-align: middle;\n",
       "    }\n",
       "\n",
       "    .dataframe tbody tr th {\n",
       "        vertical-align: top;\n",
       "    }\n",
       "\n",
       "    .dataframe thead th {\n",
       "        text-align: right;\n",
       "    }\n",
       "</style>\n",
       "<table border=\"1\" class=\"dataframe\">\n",
       "  <thead>\n",
       "    <tr style=\"text-align: right;\">\n",
       "      <th></th>\n",
       "      <th>counts</th>\n",
       "    </tr>\n",
       "    <tr>\n",
       "      <th>diputado.formacion</th>\n",
       "      <th></th>\n",
       "    </tr>\n",
       "  </thead>\n",
       "  <tbody>\n",
       "    <tr>\n",
       "      <th>Cs</th>\n",
       "      <td>2</td>\n",
       "    </tr>\n",
       "    <tr>\n",
       "      <th>EAJ-PNV</th>\n",
       "      <td>3</td>\n",
       "    </tr>\n",
       "    <tr>\n",
       "      <th>ECP-GUAYEM EL CANVI</th>\n",
       "      <td>5</td>\n",
       "    </tr>\n",
       "    <tr>\n",
       "      <th>ERC-S</th>\n",
       "      <td>1</td>\n",
       "    </tr>\n",
       "    <tr>\n",
       "      <th>NA+</th>\n",
       "      <td>4</td>\n",
       "    </tr>\n",
       "    <tr>\n",
       "      <th>PP</th>\n",
       "      <td>92</td>\n",
       "    </tr>\n",
       "    <tr>\n",
       "      <th>PP-FORO</th>\n",
       "      <td>4</td>\n",
       "    </tr>\n",
       "    <tr>\n",
       "      <th>PSE-EE-PSOE</th>\n",
       "      <td>2</td>\n",
       "    </tr>\n",
       "    <tr>\n",
       "      <th>PSOE</th>\n",
       "      <td>20</td>\n",
       "    </tr>\n",
       "    <tr>\n",
       "      <th>UP</th>\n",
       "      <td>11</td>\n",
       "    </tr>\n",
       "  </tbody>\n",
       "</table>\n",
       "</div>"
      ],
      "text/plain": [
       "                     counts\n",
       "diputado.formacion         \n",
       "Cs                        2\n",
       "EAJ-PNV                   3\n",
       "ECP-GUAYEM EL CANVI       5\n",
       "ERC-S                     1\n",
       "NA+                       4\n",
       "PP                       92\n",
       "PP-FORO                   4\n",
       "PSE-EE-PSOE               2\n",
       "PSOE                     20\n",
       "UP                       11"
      ]
     },
     "execution_count": 85,
     "metadata": {},
     "output_type": "execute_result"
    }
   ],
   "source": [
    "formaciones = (df\n",
    "        .groupby(['diputado.formacion'])\n",
    "        .size()\n",
    "        .reset_index(name='counts')\n",
    "        .set_index('diputado.formacion'))\n",
    "formaciones"
   ]
  },
  {
   "cell_type": "code",
   "execution_count": 89,
   "id": "found-instrument",
   "metadata": {},
   "outputs": [
    {
     "data": {
      "text/plain": [
       "<AxesSubplot:ylabel='counts'>"
      ]
     },
     "execution_count": 89,
     "metadata": {},
     "output_type": "execute_result"
    },
    {
     "data": {
      "image/png": "[encoded data removed]",
      "text/plain": [
       "<Figure size 432x288 with 1 Axes>"
      ]
     },
     "metadata": {},
     "output_type": "display_data"
    }
   ],
   "source": [
    "formaciones.plot.pie(y='counts', legend=False)"
   ]
  },
  {
   "cell_type": "code",
   "execution_count": 6,
   "id": "equivalent-neighborhood",
   "metadata": {},
   "outputs": [
    {
     "data": {
      "text/plain": [
       "['Esta este DD0FS0 0.978817',\n",
       " 'pregunta pregunta NCFS000 0.694581',\n",
       " 'que que PR0CN00 0.550139',\n",
       " 'se se P00CN00 0.494509',\n",
       " 'hace hacer VMIP3S0 1',\n",
       " 'el el DA0MS0 1',\n",
       " 'Alcalde_de_Madrid alcalde_de_madrid NP00O00 1',\n",
       " 'nos nos PP1CP00 0.810258',\n",
       " 'la lo PP3FSA0 0.010734',\n",
       " 'hacemos hacer VMIP1P0 1',\n",
       " 'muchos mucho DI0MP0 0.663994',\n",
       " 'españoles español NCMP000 0.413379',\n",
       " 'cada cada DI0CS0 1',\n",
       " 'vez vez NCFS000 1',\n",
       " 'que que PR0CN00 0.550139',\n",
       " 'vemos ver VMIP1P0 1',\n",
       " 'que que CS 0.449861',\n",
       " 'los el DA0MP0 0.992728',\n",
       " 'Bardem bardem NP00SP0 1',\n",
       " 'se se P00CN00 0.494509',\n",
       " 'ponen poner VMIP3P0 1',\n",
       " 'detrás_de detrás_de SP 1',\n",
       " 'la el DA0FS0 0.98926',\n",
       " 'correspondiente correspondiente AQ0CS00 0.993421',\n",
       " 'pancarta pancarta NCFS000 1',\n",
       " 'progre progre AQ0CS00 0.661293',\n",
       " 'https://t.co/wB5es3NjSZ https://t.co/wB5es3NjSZ Z 1',\n",
       " '. . Fp 1']"
      ]
     },
     "execution_count": 6,
     "metadata": {},
     "output_type": "execute_result"
    }
   ],
   "source": [
    "fl = df.iloc[4]['freeling'].split('\\n')\n",
    "fl"
   ]
  },
  {
   "cell_type": "markdown",
   "id": "bridal-triangle",
   "metadata": {},
   "source": [
    "## Llevar paraules que no aportin significat\n",
    "\n",
    "Freeling morfo\n",
    "\n",
    "https://freeling-user-manual.readthedocs.io/en/v4.2/tagsets/tagset-es/\n",
    "\n",
    "`Morfo { Word, Lema, PoS_Tag, Probability }`"
   ]
  },
  {
   "cell_type": "code",
   "execution_count": 30,
   "id": "bulgarian-aquatic",
   "metadata": {},
   "outputs": [],
   "source": [
    "class Morfo:\n",
    "    def __init__(self, word, lema, pos, prob):\n",
    "        self.word = word\n",
    "        self.lema = lema\n",
    "        self.pos = pos\n",
    "        self.prob = prob\n",
    "        \n",
    "    def isAdjective(self):\n",
    "        return self.pos[0] == 'A'\n",
    "    \n",
    "    def isConjunction(self):\n",
    "        return self.pos[0] == 'C'\n",
    "    \n",
    "    def isDeterminer(self):\n",
    "        return self.pos[0] == 'D'\n",
    "    \n",
    "    def isNoun(self):\n",
    "        return self.pos[0] == 'N'\n",
    "    \n",
    "    def isPronoun(self):\n",
    "        return self.pos[0] == 'P'\n",
    "    \n",
    "    def isAdverb(self):\n",
    "        return self.pos[0] == 'R'\n",
    "    \n",
    "    def isAdposition(self):\n",
    "        return self.pos[0] == 'S'\n",
    "    \n",
    "    def isVerb(self):\n",
    "        return self.pos[0] == 'V'\n",
    "    \n",
    "    def isNumber(self):\n",
    "        return self.pos[0] == 'N'\n",
    "    \n",
    "    def isDate(self):\n",
    "        return self.pos[0] == 'D'\n",
    "    \n",
    "    def isInterjection(self):\n",
    "        return self.pos[0] == 'I'\n",
    "    \n",
    "    def isPunctuation(self):\n",
    "        return self.pos[0] == 'F'\n",
    "    \n",
    "    def isOther(self):\n",
    "        return self.pos[0] == 'Z'\n",
    "    \n",
    "    def isNonSignificant(self):\n",
    "        return self.isConjunction() or self.isDeterminer() or self.isPronoun() or self.isAdposition() or self.isOther()\n",
    "        \n",
    "    def __str__(self):\n",
    "        return f'<{self.word}, {self.lema}, {self.pos}, {self.prob}>'\n",
    "        \n",
    "def getMorfo(line):\n",
    "    parts = line.split(' ')\n",
    "    if len(parts) != 4:\n",
    "        return None\n",
    "    return Morfo(parts[0] ,parts[1], parts[2], parts[3])"
   ]
  },
  {
   "cell_type": "code",
   "execution_count": 149,
   "id": "bound-china",
   "metadata": {
    "tags": []
   },
   "outputs": [
    {
     "name": "stdout",
     "output_type": "stream",
     "text": [
      "None\n"
     ]
    }
   ],
   "source": [
    "morfos = [getMorfo(l) for l in fl]\n",
    "for m in morfos:\n",
    "    print(m)"
   ]
  },
  {
   "cell_type": "code",
   "execution_count": 118,
   "id": "empty-spank",
   "metadata": {
    "collapsed": true,
    "jupyter": {
     "outputs_hidden": true
    },
    "tags": []
   },
   "outputs": [
    {
     "name": "stdout",
     "output_type": "stream",
     "text": [
      "<Esta, este, DD0FS0, 0.978817>\n",
      "<pregunta, pregunta, NCFS000, 0.694581>\n",
      "<que, que, PR0CN00, 0.550139>\n",
      "<se, se, P00CN00, 0.494509>\n",
      "<hace, hacer, VMIP3S0, 1>\n",
      "<el, el, DA0MS0, 1>\n",
      "<Alcalde_de_Madrid, alcalde_de_madrid, NP00O00, 1>\n",
      "<nos, nos, PP1CP00, 0.810258>\n",
      "<la, lo, PP3FSA0, 0.010734>\n",
      "<hacemos, hacer, VMIP1P0, 1>\n",
      "<muchos, mucho, DI0MP0, 0.663994>\n",
      "<españoles, español, NCMP000, 0.413379>\n",
      "<cada, cada, DI0CS0, 1>\n",
      "<vez, vez, NCFS000, 1>\n",
      "<que, que, PR0CN00, 0.550139>\n",
      "<vemos, ver, VMIP1P0, 1>\n",
      "<los, el, DA0MP0, 0.992728>\n",
      "<Bardem, bardem, NP00SP0, 1>\n",
      "<se, se, P00CN00, 0.494509>\n",
      "<ponen, poner, VMIP3P0, 1>\n",
      "<detrás_de, detrás_de, SP, 1>\n",
      "<la, el, DA0FS0, 0.98926>\n",
      "<correspondiente, correspondiente, AQ0CS00, 0.993421>\n",
      "<pancarta, pancarta, NCFS000, 1>\n",
      "<progre, progre, AQ0CS00, 0.661293>\n",
      "<https://t.co/wB5es3NjSZ, https://t.co/wB5es3NjSZ, Z, 1>\n",
      "<., ., Fp, 1>\n"
     ]
    }
   ],
   "source": [
    "morfos_no_conj = [m for m in morfos if not m.isConjunction()]\n",
    "for m in morfos_no_conj:\n",
    "    print(m)"
   ]
  },
  {
   "cell_type": "code",
   "execution_count": 119,
   "id": "swiss-think",
   "metadata": {
    "collapsed": true,
    "jupyter": {
     "outputs_hidden": true
    },
    "tags": []
   },
   "outputs": [
    {
     "name": "stdout",
     "output_type": "stream",
     "text": [
      "<pregunta, pregunta, NCFS000, 0.694581>\n",
      "<que, que, PR0CN00, 0.550139>\n",
      "<se, se, P00CN00, 0.494509>\n",
      "<hace, hacer, VMIP3S0, 1>\n",
      "<Alcalde_de_Madrid, alcalde_de_madrid, NP00O00, 1>\n",
      "<nos, nos, PP1CP00, 0.810258>\n",
      "<la, lo, PP3FSA0, 0.010734>\n",
      "<hacemos, hacer, VMIP1P0, 1>\n",
      "<españoles, español, NCMP000, 0.413379>\n",
      "<vez, vez, NCFS000, 1>\n",
      "<que, que, PR0CN00, 0.550139>\n",
      "<vemos, ver, VMIP1P0, 1>\n",
      "<Bardem, bardem, NP00SP0, 1>\n",
      "<se, se, P00CN00, 0.494509>\n",
      "<ponen, poner, VMIP3P0, 1>\n",
      "<detrás_de, detrás_de, SP, 1>\n",
      "<correspondiente, correspondiente, AQ0CS00, 0.993421>\n",
      "<pancarta, pancarta, NCFS000, 1>\n",
      "<progre, progre, AQ0CS00, 0.661293>\n",
      "<https://t.co/wB5es3NjSZ, https://t.co/wB5es3NjSZ, Z, 1>\n",
      "<., ., Fp, 1>\n"
     ]
    }
   ],
   "source": [
    "morfos_no_conj_det = [m for m in morfos_no_conj if not m.isDeterminer()]\n",
    "for m in morfos_no_conj_det:\n",
    "    print(m)"
   ]
  },
  {
   "cell_type": "code",
   "execution_count": 120,
   "id": "consecutive-subdivision",
   "metadata": {
    "collapsed": true,
    "jupyter": {
     "outputs_hidden": true
    },
    "tags": []
   },
   "outputs": [
    {
     "name": "stdout",
     "output_type": "stream",
     "text": [
      "<pregunta, pregunta, NCFS000, 0.694581>\n",
      "<que, que, PR0CN00, 0.550139>\n",
      "<se, se, P00CN00, 0.494509>\n",
      "<hace, hacer, VMIP3S0, 1>\n",
      "<Alcalde_de_Madrid, alcalde_de_madrid, NP00O00, 1>\n",
      "<nos, nos, PP1CP00, 0.810258>\n",
      "<la, lo, PP3FSA0, 0.010734>\n",
      "<hacemos, hacer, VMIP1P0, 1>\n",
      "<españoles, español, NCMP000, 0.413379>\n",
      "<vez, vez, NCFS000, 1>\n",
      "<que, que, PR0CN00, 0.550139>\n",
      "<vemos, ver, VMIP1P0, 1>\n",
      "<Bardem, bardem, NP00SP0, 1>\n",
      "<se, se, P00CN00, 0.494509>\n",
      "<ponen, poner, VMIP3P0, 1>\n",
      "<detrás_de, detrás_de, SP, 1>\n",
      "<correspondiente, correspondiente, AQ0CS00, 0.993421>\n",
      "<pancarta, pancarta, NCFS000, 1>\n",
      "<progre, progre, AQ0CS00, 0.661293>\n",
      "<https://t.co/wB5es3NjSZ, https://t.co/wB5es3NjSZ, Z, 1>\n"
     ]
    }
   ],
   "source": [
    "morfos_no_conj_det_pun = [m for m in morfos_no_conj_det if not m.isPunctuation()]\n",
    "for m in morfos_no_conj_det_pun:\n",
    "    print(m)"
   ]
  },
  {
   "cell_type": "code",
   "execution_count": 121,
   "id": "consolidated-colombia",
   "metadata": {
    "collapsed": true,
    "jupyter": {
     "outputs_hidden": true
    },
    "tags": []
   },
   "outputs": [
    {
     "name": "stdout",
     "output_type": "stream",
     "text": [
      "<pregunta, pregunta, NCFS000, 0.694581>\n",
      "<que, que, PR0CN00, 0.550139>\n",
      "<se, se, P00CN00, 0.494509>\n",
      "<hace, hacer, VMIP3S0, 1>\n",
      "<Alcalde_de_Madrid, alcalde_de_madrid, NP00O00, 1>\n",
      "<nos, nos, PP1CP00, 0.810258>\n",
      "<la, lo, PP3FSA0, 0.010734>\n",
      "<hacemos, hacer, VMIP1P0, 1>\n",
      "<españoles, español, NCMP000, 0.413379>\n",
      "<vez, vez, NCFS000, 1>\n",
      "<que, que, PR0CN00, 0.550139>\n",
      "<vemos, ver, VMIP1P0, 1>\n",
      "<Bardem, bardem, NP00SP0, 1>\n",
      "<se, se, P00CN00, 0.494509>\n",
      "<ponen, poner, VMIP3P0, 1>\n",
      "<detrás_de, detrás_de, SP, 1>\n",
      "<correspondiente, correspondiente, AQ0CS00, 0.993421>\n",
      "<pancarta, pancarta, NCFS000, 1>\n",
      "<progre, progre, AQ0CS00, 0.661293>\n"
     ]
    }
   ],
   "source": [
    "morfos_no_conj_det_pun_other = [m for m in morfos_no_conj_det_pun if not m.isOther()]\n",
    "for m in morfos_no_conj_det_pun_other:\n",
    "    print(m)"
   ]
  },
  {
   "cell_type": "code",
   "execution_count": 122,
   "id": "standard-interstate",
   "metadata": {},
   "outputs": [
    {
     "name": "stdout",
     "output_type": "stream",
     "text": [
      "<pregunta, pregunta, NCFS000, 0.694581>\n",
      "<hace, hacer, VMIP3S0, 1>\n",
      "<Alcalde_de_Madrid, alcalde_de_madrid, NP00O00, 1>\n",
      "<hacemos, hacer, VMIP1P0, 1>\n",
      "<españoles, español, NCMP000, 0.413379>\n",
      "<vez, vez, NCFS000, 1>\n",
      "<vemos, ver, VMIP1P0, 1>\n",
      "<Bardem, bardem, NP00SP0, 1>\n",
      "<ponen, poner, VMIP3P0, 1>\n",
      "<detrás_de, detrás_de, SP, 1>\n",
      "<correspondiente, correspondiente, AQ0CS00, 0.993421>\n",
      "<pancarta, pancarta, NCFS000, 1>\n",
      "<progre, progre, AQ0CS00, 0.661293>\n"
     ]
    }
   ],
   "source": [
    "morfos_no_conj_det_pun_other_pron = [m for m in morfos_no_conj_det_pun_other if not m.isPronoun()]\n",
    "for m in morfos_no_conj_det_pun_other_pron:\n",
    "    print(m)"
   ]
  },
  {
   "cell_type": "code",
   "execution_count": 138,
   "id": "chubby-complex",
   "metadata": {},
   "outputs": [
    {
     "name": "stdout",
     "output_type": "stream",
     "text": [
      "pregunta\n",
      "hacer\n",
      "alcalde_de_madrid\n",
      "hacer\n",
      "español\n",
      "vez\n",
      "ver\n",
      "bardem\n",
      "poner\n",
      "detrás_de\n",
      "correspondiente\n",
      "pancarta\n",
      "progre\n",
      ".\n"
     ]
    }
   ],
   "source": [
    "significant_lemas = [m.lema for m in morfos if not m.isNonSignificant()]\n",
    "for lema in significant_lemas:\n",
    "    print(lema)"
   ]
  },
  {
   "cell_type": "code",
   "execution_count": 8,
   "id": "worth-boost",
   "metadata": {},
   "outputs": [
    {
     "data": {
      "text/plain": [
       "['FL-SERVER-READY']"
      ]
     },
     "execution_count": 8,
     "metadata": {},
     "output_type": "execute_result"
    }
   ],
   "source": [
    "fl = df.iloc[0]['freeling'].split('\\n')\n",
    "fl"
   ]
  },
  {
   "cell_type": "code",
   "execution_count": 31,
   "id": "increasing-decade",
   "metadata": {},
   "outputs": [
    {
     "data": {
      "text/plain": [
       "[]"
      ]
     },
     "execution_count": 31,
     "metadata": {},
     "output_type": "execute_result"
    }
   ],
   "source": [
    "morfos = [getMorfo(l) for l in fl if getMorfo(l) != None]\n",
    "morfos"
   ]
  },
  {
   "cell_type": "code",
   "execution_count": 32,
   "id": "scenic-spotlight",
   "metadata": {},
   "outputs": [],
   "source": [
    "def getSignificantLemas(freeling, withoutPunctuation=False):\n",
    "    morfos = [getMorfo(l) for l in freeling.split('\\n') if getMorfo(l) != None]\n",
    "    morfos = [m for m in morfos if not m.isNonSignificant()]\n",
    "    if withoutPunctuation:\n",
    "        morfos = [m for m in morfos if not m.isPunctuation()]\n",
    "    return [m.lema for m in morfos]\n",
    "\n",
    "df['significantLemas'] = df.apply(lambda x: getSignificantLemas(x['freeling']), axis = 1)"
   ]
  },
  {
   "cell_type": "code",
   "execution_count": 33,
   "id": "unsigned-belarus",
   "metadata": {},
   "outputs": [
    {
     "data": {
      "text/html": [
       "<div>\n",
       "<style scoped>\n",
       "    .dataframe tbody tr th:only-of-type {\n",
       "        vertical-align: middle;\n",
       "    }\n",
       "\n",
       "    .dataframe tbody tr th {\n",
       "        vertical-align: top;\n",
       "    }\n",
       "\n",
       "    .dataframe thead th {\n",
       "        text-align: right;\n",
       "    }\n",
       "</style>\n",
       "<table border=\"1\" class=\"dataframe\">\n",
       "  <thead>\n",
       "    <tr style=\"text-align: right;\">\n",
       "      <th></th>\n",
       "      <th>_id</th>\n",
       "      <th>_type</th>\n",
       "      <th>_index</th>\n",
       "      <th>id</th>\n",
       "      <th>text</th>\n",
       "      <th>freeling</th>\n",
       "      <th>created_at</th>\n",
       "      <th>diputado.apellidos</th>\n",
       "      <th>diputado.codParlamentario</th>\n",
       "      <th>diputado.formacion</th>\n",
       "      <th>diputado.genero</th>\n",
       "      <th>diputado.grupo</th>\n",
       "      <th>diputado.idCircunscripcion</th>\n",
       "      <th>diputado.nombreCircunscripcion</th>\n",
       "      <th>significantLemas</th>\n",
       "    </tr>\n",
       "  </thead>\n",
       "  <tbody>\n",
       "    <tr>\n",
       "      <th>0</th>\n",
       "      <td>B-0To3gBIirSknWccxlR</td>\n",
       "      <td>_doc</td>\n",
       "      <td>tfg-tweets</td>\n",
       "      <td>1203141389346840576</td>\n",
       "      <td>https://t.co/ppNoPWbdbj</td>\n",
       "      <td>FL-SERVER-READY</td>\n",
       "      <td>2019-12-07T02:37:15.000Z</td>\n",
       "      <td>Antonio</td>\n",
       "      <td>372</td>\n",
       "      <td>PSOE</td>\n",
       "      <td>1</td>\n",
       "      <td>Grupo Parlamentario Socialista</td>\n",
       "      <td>14</td>\n",
       "      <td>Córdoba</td>\n",
       "      <td>[]</td>\n",
       "    </tr>\n",
       "    <tr>\n",
       "      <th>1</th>\n",
       "      <td>CO0To3gBIirSknWcdBli</td>\n",
       "      <td>_doc</td>\n",
       "      <td>tfg-tweets</td>\n",
       "      <td>1203238410128891905</td>\n",
       "      <td>Un mes de la Prep, la pastilla que evita la tr...</td>\n",
       "      <td>Un uno DI0MS0 0.99698\\nmes mes NCMS000 1\\nde d...</td>\n",
       "      <td>2019-12-07T09:02:46.000Z</td>\n",
       "      <td>Antonio</td>\n",
       "      <td>372</td>\n",
       "      <td>PSOE</td>\n",
       "      <td>1</td>\n",
       "      <td>Grupo Parlamentario Socialista</td>\n",
       "      <td>14</td>\n",
       "      <td>Córdoba</td>\n",
       "      <td>[mes, prep, ,, pastilla, evitar, transmisión, ...</td>\n",
       "    </tr>\n",
       "    <tr>\n",
       "      <th>2</th>\n",
       "      <td>Ce0To3gBIirSknWcdRlL</td>\n",
       "      <td>_doc</td>\n",
       "      <td>tfg-tweets</td>\n",
       "      <td>1203239323581194245</td>\n",
       "      <td>Una multitudinaria Marcha por el Clima arranca...</td>\n",
       "      <td>Una uno DI0FS0 0.951973\\nmultitudinaria multit...</td>\n",
       "      <td>2019-12-07T09:06:24.000Z</td>\n",
       "      <td>Antonio</td>\n",
       "      <td>372</td>\n",
       "      <td>PSOE</td>\n",
       "      <td>1</td>\n",
       "      <td>Grupo Parlamentario Socialista</td>\n",
       "      <td>14</td>\n",
       "      <td>Córdoba</td>\n",
       "      <td>[multitudinario, marcha, clima, arrancar, madr...</td>\n",
       "    </tr>\n",
       "    <tr>\n",
       "      <th>3</th>\n",
       "      <td>Cu0To3gBIirSknWcdhkh</td>\n",
       "      <td>_doc</td>\n",
       "      <td>tfg-tweets</td>\n",
       "      <td>1203249204581294080</td>\n",
       "      <td>Un honor ser vuestro compañero https://t.co/PM...</td>\n",
       "      <td>FL-SERVER-READY</td>\n",
       "      <td>2019-12-07T09:45:40.000Z</td>\n",
       "      <td>Juan Antonio</td>\n",
       "      <td>35</td>\n",
       "      <td>PP</td>\n",
       "      <td>1</td>\n",
       "      <td>Grupo Parlamentario Popular en el Congreso</td>\n",
       "      <td>13</td>\n",
       "      <td>Ciudad Real</td>\n",
       "      <td>[]</td>\n",
       "    </tr>\n",
       "    <tr>\n",
       "      <th>4</th>\n",
       "      <td>C-0To3gBIirSknWcdxkv</td>\n",
       "      <td>_doc</td>\n",
       "      <td>tfg-tweets</td>\n",
       "      <td>1203296764650020864</td>\n",
       "      <td>Esta pregunta que se hace el Alcalde de Madrid...</td>\n",
       "      <td>Esta este DD0FS0 0.978817\\npregunta pregunta N...</td>\n",
       "      <td>2019-12-07T12:54:39.000Z</td>\n",
       "      <td>Marta</td>\n",
       "      <td>237</td>\n",
       "      <td>PP</td>\n",
       "      <td>2</td>\n",
       "      <td>Grupo Parlamentario Popular en el Congreso</td>\n",
       "      <td>15</td>\n",
       "      <td>Coruña (A)</td>\n",
       "      <td>[pregunta, hacer, alcalde_de_madrid, hacer, es...</td>\n",
       "    </tr>\n",
       "  </tbody>\n",
       "</table>\n",
       "</div>"
      ],
      "text/plain": [
       "                    _id _type      _index                   id  \\\n",
       "0  B-0To3gBIirSknWccxlR  _doc  tfg-tweets  1203141389346840576   \n",
       "1  CO0To3gBIirSknWcdBli  _doc  tfg-tweets  1203238410128891905   \n",
       "2  Ce0To3gBIirSknWcdRlL  _doc  tfg-tweets  1203239323581194245   \n",
       "3  Cu0To3gBIirSknWcdhkh  _doc  tfg-tweets  1203249204581294080   \n",
       "4  C-0To3gBIirSknWcdxkv  _doc  tfg-tweets  1203296764650020864   \n",
       "\n",
       "                                                text  \\\n",
       "0                            https://t.co/ppNoPWbdbj   \n",
       "1  Un mes de la Prep, la pastilla que evita la tr...   \n",
       "2  Una multitudinaria Marcha por el Clima arranca...   \n",
       "3  Un honor ser vuestro compañero https://t.co/PM...   \n",
       "4  Esta pregunta que se hace el Alcalde de Madrid...   \n",
       "\n",
       "                                            freeling  \\\n",
       "0                                    FL-SERVER-READY   \n",
       "1  Un uno DI0MS0 0.99698\\nmes mes NCMS000 1\\nde d...   \n",
       "2  Una uno DI0FS0 0.951973\\nmultitudinaria multit...   \n",
       "3                                    FL-SERVER-READY   \n",
       "4  Esta este DD0FS0 0.978817\\npregunta pregunta N...   \n",
       "\n",
       "                 created_at diputado.apellidos  diputado.codParlamentario  \\\n",
       "0  2019-12-07T02:37:15.000Z            Antonio                        372   \n",
       "1  2019-12-07T09:02:46.000Z            Antonio                        372   \n",
       "2  2019-12-07T09:06:24.000Z            Antonio                        372   \n",
       "3  2019-12-07T09:45:40.000Z       Juan Antonio                         35   \n",
       "4  2019-12-07T12:54:39.000Z              Marta                        237   \n",
       "\n",
       "  diputado.formacion  diputado.genero  \\\n",
       "0               PSOE                1   \n",
       "1               PSOE                1   \n",
       "2               PSOE                1   \n",
       "3                 PP                1   \n",
       "4                 PP                2   \n",
       "\n",
       "                               diputado.grupo  diputado.idCircunscripcion  \\\n",
       "0              Grupo Parlamentario Socialista                          14   \n",
       "1              Grupo Parlamentario Socialista                          14   \n",
       "2              Grupo Parlamentario Socialista                          14   \n",
       "3  Grupo Parlamentario Popular en el Congreso                          13   \n",
       "4  Grupo Parlamentario Popular en el Congreso                          15   \n",
       "\n",
       "  diputado.nombreCircunscripcion  \\\n",
       "0                        Córdoba   \n",
       "1                        Córdoba   \n",
       "2                        Córdoba   \n",
       "3                    Ciudad Real   \n",
       "4                     Coruña (A)   \n",
       "\n",
       "                                    significantLemas  \n",
       "0                                                 []  \n",
       "1  [mes, prep, ,, pastilla, evitar, transmisión, ...  \n",
       "2  [multitudinario, marcha, clima, arrancar, madr...  \n",
       "3                                                 []  \n",
       "4  [pregunta, hacer, alcalde_de_madrid, hacer, es...  "
      ]
     },
     "execution_count": 33,
     "metadata": {},
     "output_type": "execute_result"
    }
   ],
   "source": [
    "df.head()"
   ]
  },
  {
   "cell_type": "code",
   "execution_count": 34,
   "id": "received-optimization",
   "metadata": {},
   "outputs": [
    {
     "data": {
      "text/plain": [
       "0                                                     []\n",
       "1      [mes, prep, ,, pastilla, evitar, transmisión, ...\n",
       "2      [multitudinario, marcha, clima, arrancar, madr...\n",
       "3                                                     []\n",
       "4      [pregunta, hacer, alcalde_de_madrid, hacer, es...\n",
       "                             ...                        \n",
       "139                                                  [.]\n",
       "140                                                  [.]\n",
       "141                                                  [.]\n",
       "142                                                  [.]\n",
       "143                                                  [.]\n",
       "Name: significantLemas, Length: 144, dtype: object"
      ]
     },
     "execution_count": 34,
     "metadata": {},
     "output_type": "execute_result"
    }
   ],
   "source": [
    "df['significantLemas']"
   ]
  },
  {
   "cell_type": "code",
   "execution_count": 35,
   "id": "previous-mustang",
   "metadata": {},
   "outputs": [
    {
     "data": {
      "text/plain": [
       "0                                                     []\n",
       "1      [mes, prep, pastilla, evitar, transmisión, vih...\n",
       "2      [multitudinario, marcha, clima, arrancar, madr...\n",
       "3                                                     []\n",
       "4      [pregunta, hacer, alcalde_de_madrid, hacer, es...\n",
       "                             ...                        \n",
       "139                                                   []\n",
       "140                                                   []\n",
       "141                                                   []\n",
       "142                                                   []\n",
       "143                                                   []\n",
       "Length: 144, dtype: object"
      ]
     },
     "execution_count": 35,
     "metadata": {},
     "output_type": "execute_result"
    }
   ],
   "source": [
    "itemsLemas = df.apply(lambda x: getSignificantLemas(x['freeling'], withoutPunctuation=True), axis = 1)\n",
    "itemsLemas\n",
    "\n"
   ]
  },
  {
   "cell_type": "code",
   "execution_count": 39,
   "id": "touched-webster",
   "metadata": {},
   "outputs": [
    {
     "data": {
      "text/plain": [
       "[('ser', 32),\n",
       " ('haber', 27),\n",
       " ('estar', 17),\n",
       " ('constitución', 17),\n",
       " ('hoy', 16),\n",
       " ('españa', 16),\n",
       " ('hacer', 9),\n",
       " ('poder', 9),\n",
       " ('más', 9),\n",
       " ('tener', 8)]"
      ]
     },
     "execution_count": 39,
     "metadata": {},
     "output_type": "execute_result"
    }
   ],
   "source": [
    "from collections import Counter\n",
    "\n",
    "lemas = []\n",
    "for il in itemsLemas:\n",
    "    for l in il:\n",
    "        lemas.append(l)\n",
    "\n",
    "counter = Counter(lemas)\n",
    "counter.most_common(10)"
   ]
  }
 ],
 "metadata": {
  "kernelspec": {
   "display_name": "Python 3",
   "language": "python",
   "name": "python3"
  },
  "language_info": {
   "codemirror_mode": {
    "name": "ipython",
    "version": 3
   },
   "file_extension": ".py",
   "mimetype": "text/x-python",
   "name": "python",
   "nbconvert_exporter": "python",
   "pygments_lexer": "ipython3",
   "version": "3.8.8"
  }
 },
 "nbformat": 4,
 "nbformat_minor": 5
}
